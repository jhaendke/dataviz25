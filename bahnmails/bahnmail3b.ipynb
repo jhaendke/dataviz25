{
 "cells": [
  {
   "cell_type": "code",
   "execution_count": 1,
   "metadata": {},
   "outputs": [],
   "source": [
    "import os\n",
    "import openai\n",
    "import csv\n",
    "from dotenv import load_dotenv\n",
    "from openai import OpenAI\n",
    "#from google.colab import userdata"
   ]
  },
  {
   "cell_type": "code",
   "execution_count": null,
   "metadata": {},
   "outputs": [],
   "source": [
    "# Environment\n",
    "\n",
    "#SYSTEM_PROMPT = \"You are a helpful assistant that collects data from emails.\"\n",
    "\n",
    "#API_KEY = \"\"\n",
    "\n",
    "# using Collab Secrets\n",
    "#API_KEY=userdata.get('openai'))\n",
    "\n",
    "# using .env\n",
    "load_dotenv()\n",
    "#print(os.getenv('SECRET'))\n",
    "API_KEY = os.getenv('API_KEY')\n",
    "\n",
    "# Initialize the OpenAI client with your API key\n",
    "client = OpenAI(api_key=API_KEY)"
   ]
  },
  {
   "cell_type": "code",
   "execution_count": 2,
   "metadata": {},
   "outputs": [],
   "source": [
    "# Define the directory and output CSV file\n",
    "input_folder = \"data\"\n",
    "output_csv = \"data/data.csv\""
   ]
  },
  {
   "cell_type": "code",
   "execution_count": 3,
   "metadata": {},
   "outputs": [],
   "source": [
    "# Function to read HTML file\n",
    "def read_html_file(file_path):\n",
    "    with open(file_path, 'r', encoding='utf-8') as file:\n",
    "        return file.read()\n",
    "\n",
    "#html_content = read_html_file('test/mailexp_20250114-_noreply@deutschebahn.com_-1323.html')\n",
    "#print(html_content)"
   ]
  },
  {
   "cell_type": "code",
   "execution_count": 4,
   "metadata": {},
   "outputs": [],
   "source": [
    "### WORKS !\n",
    "# # Function to save data to CSV\n",
    "### ggf newline ändern?\n",
    "\n",
    "def save_to_csv(data, output_file):\n",
    "    header = [\"date\", \"departure_time\", \"departure_station\", \"arrival_time\", \"arrival_station\", \"price\", \"booking_timestamp\", \"order_number\"]\n",
    "    with open(output_file, 'w', newline='', encoding='utf-8') as file:\n",
    "        writer = csv.writer(file)\n",
    "        writer.writerow(header)\n",
    "        writer.writerows(data)"
   ]
  },
  {
   "cell_type": "code",
   "execution_count": 15,
   "metadata": {},
   "outputs": [],
   "source": [
    "### WORKS !\n",
    "# # Function to save extracted data to CSV\n",
    "\n",
    "#def save_to_csv(data, output_file):\n",
    "#    with open(output_file, \"w\", newline=\"\", encoding=\"utf-8\") as csvfile:\n",
    "#        writer = csv.writer(csvfile)\n",
    "#        writer.writerow([\"date\", \"departure_time\", \"departure_station\", \n",
    "#                         \"arrival_time\", \"arrival_station\", \"price\", \n",
    "#                         \"booking_timestamp\", \"order_number\"])\n",
    "#\n",
    "#        for row in data:\n",
    "#            writer.writerow(row)"
   ]
  },
  {
   "cell_type": "code",
   "execution_count": 16,
   "metadata": {},
   "outputs": [],
   "source": [
    "# Function to process HTML content with AI\n",
    "def extract_email_info(html_content):\n",
    "    prompt = \"\"\"Here is a booking confirmation from Deutsche Bahn. \n",
    "    Please arrange the following key information in a comma-separated table \n",
    "    with the header: date, departure_time, departure_station, arrival_time, \n",
    "    arrival_station, price, booking_timestamp, order_number\"\"\"\n",
    "    \n",
    "    response = client.chat.completions.create(\n",
    "        model=\"gpt-4o\",\n",
    "        messages=[\n",
    "            {\"role\": \"system\", \"content\": prompt},\n",
    "            {\"role\": \"user\", \"content\": html_content}\n",
    "        ],\n",
    "        temperature=0.1,  # Set to 0 for a deterministic answer\n",
    "        max_tokens=2000   # adjust\n",
    "    )\n",
    "    \n",
    "    return response.choices[0].message.content.strip()"
   ]
  },
  {
   "cell_type": "code",
   "execution_count": null,
   "metadata": {},
   "outputs": [],
   "source": [
    "# Test\n",
    "#extract_email_info(html_content)"
   ]
  },
  {
   "cell_type": "code",
   "execution_count": 17,
   "metadata": {},
   "outputs": [],
   "source": [
    "# Main Execution\n",
    "email_data = []\n",
    "\n",
    "# Process each HTML email file\n",
    "for filename in os.listdir(input_folder):\n",
    "    if filename.endswith(\".html\"):\n",
    "        file_path = os.path.join(input_folder, filename)\n",
    "        html_content = read_html_file(file_path)\n",
    "        extracted_text = extract_email_info(html_content)\n",
    "\n",
    "        # Process AI response (Assuming CSV-like output)\n",
    "        lines = extracted_text.split(\"\\n\")\n",
    "        for line in lines:\n",
    "            parts = line.split(\",\")  # Assuming AI returns comma-separated values\n",
    "            if len(parts) == 8:  # Ensure all columns are present\n",
    "                email_data.append(parts)"
   ]
  },
  {
   "cell_type": "code",
   "execution_count": null,
   "metadata": {},
   "outputs": [],
   "source": [
    "# Print\n",
    "#print(email_data)"
   ]
  },
  {
   "cell_type": "code",
   "execution_count": 20,
   "metadata": {},
   "outputs": [
    {
     "name": "stdout",
     "output_type": "stream",
     "text": [
      "CSV saved to test/extracted_booking_info.csv\n"
     ]
    }
   ],
   "source": [
    "# Save extracted data to CSV\n",
    "save_to_csv(email_data, output_csv)\n",
    "\n",
    "print(f\"CSV saved to {output_csv}\")"
   ]
  },
  {
   "cell_type": "code",
   "execution_count": null,
   "metadata": {},
   "outputs": [],
   "source": [
    "# Print the model's reply\n",
    "#print(\"Response:\", response.choices[0].message.content.strip())\n",
    "\n",
    "# Print token usage details\n",
    "#print(\"Tokens Used:\", response.usage)"
   ]
  }
 ],
 "metadata": {
  "kernelspec": {
   "display_name": "py312",
   "language": "python",
   "name": "python3"
  },
  "language_info": {
   "codemirror_mode": {
    "name": "ipython",
    "version": 3
   },
   "file_extension": ".py",
   "mimetype": "text/x-python",
   "name": "python",
   "nbconvert_exporter": "python",
   "pygments_lexer": "ipython3",
   "version": "3.12.8"
  }
 },
 "nbformat": 4,
 "nbformat_minor": 2
}
