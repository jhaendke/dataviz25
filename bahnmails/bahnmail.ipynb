{
 "cells": [
  {
   "cell_type": "code",
   "execution_count": 4,
   "metadata": {},
   "outputs": [],
   "source": [
    "import os\n",
    "import csv\n",
    "import json\n",
    "#import pandas as pd\n",
    "from openai import OpenAI\n",
    "\n",
    "# ENV\n",
    "# Set API key\n",
    "API_KEY = \"\"\n",
    "# System prompt\n",
    "SYSTEM_PROMPT = \"You are a helpful assistant that collects data from emails.\"\n",
    "\n",
    "# Initialize the OpenAI client with your API key\n",
    "client = OpenAI(api_key=API_KEY)\n",
    "#client = OpenAI(api_key=userdata.get('openai'))"
   ]
  },
  {
   "cell_type": "code",
   "execution_count": 8,
   "metadata": {},
   "outputs": [],
   "source": [
    "# Folder containing email HTML files\n",
    "#input_folder = \"/content/drive/My Drive/20_UNI/TUM/2425_DataVizR/bahnmails\"\n",
    "input_folder = \"/test\"\n",
    "#output_csv = \"/content/drive/My Drive/20_UNI/TUM/2425_DataVizR/bahnmails/email_data.csv\"\n",
    "output_csv = \"/test/email_data.csv\""
   ]
  },
  {
   "cell_type": "code",
   "execution_count": null,
   "metadata": {},
   "outputs": [],
   "source": [
    "# Function to read an HTML file\n",
    "def read_html_file(file_path):\n",
    "    with open(file_path, \"r\", encoding=\"utf-8\") as file:\n",
    "        content = file.read() # put html into var \"content\"\n",
    "    return content\n",
    "    #return file.read() # same output\n",
    "\n",
    "html_content = read_html_file('test/mailexp_20250114-_noreply@deutschebahn.com_-1323.html')\n",
    "#print(html_content)"
   ]
  },
  {
   "cell_type": "code",
   "execution_count": 11,
   "metadata": {},
   "outputs": [],
   "source": [
    "# Function to process HTML content with AI\n",
    "def extract_email_info(html_content):\n",
    "    prompt = \"\"\"Here is a booking confirmation from Deutsche Bahn. \n",
    "    Please arrange the following key information in a comma-separated table \n",
    "    with the header: date, departure_time, departure_station, arrival_time, \n",
    "    arrival_station, price, booking_timestamp, order_number\"\"\"\n",
    "    \n",
    "    response = client.chat.completions.create(\n",
    "        model=\"gpt-4o\",\n",
    "        messages=[\n",
    "            {\"role\": \"system\", \"content\": prompt},\n",
    "            {\"role\": \"user\", \"content\": html_content}\n",
    "        ],\n",
    "        temperature=0.1,  # Set to 0 for a deterministic answer\n",
    "        max_tokens=2000   # adjust\n",
    "    )\n",
    "    \n",
    "    return response.choices[0].message.content.strip()\n"
   ]
  },
  {
   "cell_type": "code",
   "execution_count": 12,
   "metadata": {},
   "outputs": [
    {
     "data": {
      "text/plain": [
       "'```plaintext\\ndate, departure_time, departure_station, arrival_time, arrival_station, price, booking_timestamp, order_number\\n01/02/2025, 18:51, München Hbf, 22:52, Berlin Hbf, 18.74 EUR, 14/01/2025 22:08, 982732871065\\n```'"
      ]
     },
     "execution_count": 12,
     "metadata": {},
     "output_type": "execute_result"
    }
   ],
   "source": [
    "extract_email_info(html_content)"
   ]
  },
  {
   "cell_type": "code",
   "execution_count": 14,
   "metadata": {},
   "outputs": [],
   "source": [
    "# Main Execution\n",
    "email_data = []\n",
    "\n",
    "extracted_text = extract_email_info(html_content)\n",
    "\n",
    "# Process AI response (Assuming CSV-like output)\n",
    "lines = extracted_text.split(\"\\n\")\n",
    "for line in lines:\n",
    "    parts = line.split(\",\")  # Assuming AI returns comma-separated values\n",
    "    if len(parts) == 2:\n",
    "        email_data.append(parts)\n",
    "\n",
    "# Save extracted data to CSV\n",
    "save_to_csv(email_data, output_csv)"
   ]
  },
  {
   "cell_type": "code",
   "execution_count": 7,
   "metadata": {},
   "outputs": [],
   "source": [
    "# Function to save extracted data to CSV\n",
    "def save_to_csv(data, output_file):\n",
    "    with open(output_file, \"w\", newline=\"\", encoding=\"utf-8\") as csvfile:\n",
    "        writer = csv.writer(csvfile)\n",
    "        writer.writerow([\"date\", \"departure_time\", \"departure_station\", \n",
    "                         \"arrival_time\", \"arrival_station\", \"price\", \n",
    "                         \"booking_timestamp\", \"order_number\"])  # CSV Headers\n",
    "\n",
    "        for row in data:\n",
    "            writer.writerow(row)"
   ]
  },
  {
   "cell_type": "code",
   "execution_count": null,
   "metadata": {},
   "outputs": [],
   "source": [
    "# Main Execution\n",
    "email_data = []\n",
    "\n",
    "# Process each HTML email file\n",
    "for filename in os.listdir(input_folder):\n",
    "    if filename.endswith(\".html\"):\n",
    "        file_path = os.path.join(input_folder, filename)\n",
    "        html_content = read_html_file(file_path)\n",
    "        extracted_text = extract_email_info(html_content)\n",
    "\n",
    "        # Process AI response (Assuming CSV-like output)\n",
    "        lines = extracted_text.split(\"\\n\")\n",
    "        for line in lines:\n",
    "            parts = line.split(\",\")  # Assuming AI returns comma-separated values\n",
    "            if len(parts) == 2:\n",
    "                email_data.append(parts)\n",
    "\n",
    "# Save extracted data to CSV\n",
    "save_to_csv(email_data, output_csv)\n",
    "\n",
    "print(f\"CSV saved to {output_csv}\")\n",
    "\n",
    "# Print the model's reply\n",
    "#print(\"Response:\", response.choices[0].message.content.strip())\n",
    "\n",
    "# Print token usage details\n",
    "#print(\"Tokens Used:\", response.usage)"
   ]
  }
 ],
 "metadata": {
  "kernelspec": {
   "display_name": "py312",
   "language": "python",
   "name": "python3"
  },
  "language_info": {
   "codemirror_mode": {
    "name": "ipython",
    "version": 3
   },
   "file_extension": ".py",
   "mimetype": "text/x-python",
   "name": "python",
   "nbconvert_exporter": "python",
   "pygments_lexer": "ipython3",
   "version": "3.12.8"
  }
 },
 "nbformat": 4,
 "nbformat_minor": 2
}
